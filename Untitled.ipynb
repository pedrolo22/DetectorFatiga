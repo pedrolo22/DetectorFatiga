{
 "cells": [
  {
   "cell_type": "code",
   "execution_count": 2,
   "metadata": {},
   "outputs": [
    {
     "name": "stdout",
     "output_type": "stream",
     "text": [
      "[19, 20, 24, 25, 26, 31, 32]\n",
      "13\n"
     ]
    }
   ],
   "source": [
    "import cv2\n",
    "import numpy as np\n",
    "\n",
    "im=cv2.imread('capturas/contorno_pupila.png')\n",
    "im=cv2.cvtColor(im, cv2.COLOR_RGB2GRAY)\n",
    "im_contorno=np.where(im==255)\n",
    "listOfCoordinates= list(zip(im_contorno[0], im_contorno[1]))\n",
    "coord_y=np.sum(im_contorno[0])/(im_contorno[0].shape[0])\n",
    "coord_x=np.sum(im_contorno[1])/(im_contorno[1].shape[0])\n",
    "a=im_contorno[0]\n",
    "distancia=np.where(im_contorno[1]==coord_x)\n",
    "aux=[]\n",
    "for i in distancia[0]:\n",
    "    aux.append(a[i])\n",
    "\n",
    "#im_contorno[distancia[0]]\n",
    "print(aux)\n",
    "print(max(aux)-min(aux))\n"
   ]
  }
 ],
 "metadata": {
  "kernelspec": {
   "display_name": "Python 2",
   "language": "python",
   "name": "python2"
  },
  "language_info": {
   "codemirror_mode": {
    "name": "ipython",
    "version": 2
   },
   "file_extension": ".py",
   "mimetype": "text/x-python",
   "name": "python",
   "nbconvert_exporter": "python",
   "pygments_lexer": "ipython2",
   "version": "2.7.15"
  }
 },
 "nbformat": 4,
 "nbformat_minor": 2
}
